{
 "cells": [
  {
   "cell_type": "markdown",
   "id": "efd07381-a960-4135-9dd3-c55191386564",
   "metadata": {},
   "source": [
    "# Data Science Tools and Ecosystem"
   ]
  },
  {
   "cell_type": "markdown",
   "id": "a9616b7a-aa37-4314-884e-ee6822a72c74",
   "metadata": {},
   "source": [
    "In this notebook, Data Science Tools and Ecosystem are summarized."
   ]
  },
  {
   "cell_type": "markdown",
   "id": "cd92af74-cbe8-4845-9f51-8d0a6c2ef7ac",
   "metadata": {},
   "source": [
    "<b>Objectives</b>\n",
    "- List popular languages for Data Science\n",
    "- List popular libraries for Data Science\n",
    "- List popular open-source tools for Data Science"
   ]
  },
  {
   "cell_type": "markdown",
   "id": "08b37cc9-21bb-4306-af1c-f72c89a88ba6",
   "metadata": {},
   "source": [
    "Some of the popular languages that Data Scientists use are:\n",
    "1. Python\n",
    "2. R\n",
    "3. Java"
   ]
  },
  {
   "cell_type": "markdown",
   "id": "da3332ca-6560-4c28-b236-1cb131261185",
   "metadata": {},
   "source": [
    "Some of the commonly used libraries used by Data Scientists include:\n",
    "1. Pandas\n",
    "2. Numpy\n",
    "3. Scikit learn"
   ]
  },
  {
   "cell_type": "markdown",
   "id": "89fc24d6-cc60-4dfa-a5a4-9c4f7c97f5e8",
   "metadata": {
    "tags": []
   },
   "source": [
    "<table style=\"width:20%\">\n",
    "<tr>\n",
    "<th>Data Science Tools</th>\n",
    "</tr>\n",
    "\n",
    "<tr>\n",
    "<td>Jupyter Lab</td>\n",
    "</tr>\n",
    "    \n",
    "<tr>\n",
    "<td>Jupyter Notebook</td>\n",
    "</tr>\n",
    "    \n",
    "<tr>\n",
    "<td>Spyder</td>\n",
    "</tr>\n",
    "</table>"
   ]
  },
  {
   "cell_type": "markdown",
   "id": "cffc3d5d-64bc-4b0c-af95-73baefde1241",
   "metadata": {},
   "source": [
    "### Below are a few examples of evaluating arithmetic expressions in Python. "
   ]
  },
  {
   "cell_type": "code",
   "execution_count": 2,
   "id": "bbb7bd11-8fed-4713-8714-3cca2e8f3efd",
   "metadata": {
    "tags": []
   },
   "outputs": [
    {
     "name": "stdout",
     "output_type": "stream",
     "text": [
      "17\n"
     ]
    }
   ],
   "source": [
    "#This a simple arithmetic expression to mutiply then add integers\n",
    "a = (3*4)+5\n",
    "print(a)"
   ]
  },
  {
   "cell_type": "code",
   "execution_count": 3,
   "id": "ba76320c-be8d-4ab5-8301-9c91d3dad147",
   "metadata": {
    "tags": []
   },
   "outputs": [
    {
     "name": "stdout",
     "output_type": "stream",
     "text": [
      "3.3333333333333335\n"
     ]
    }
   ],
   "source": [
    "# This will convert 200 minutes to hours by diving by 60\n",
    "min = 200\n",
    "hours = min/60\n",
    "print(hours)"
   ]
  },
  {
   "cell_type": "markdown",
   "id": "88a25c6b-ada2-4253-b668-50a8820fc1d5",
   "metadata": {},
   "source": [
    "## Author\n",
    "Guillaume"
   ]
  },
  {
   "cell_type": "code",
   "execution_count": null,
   "id": "b208998e-aa61-47c6-ada2-04d31b85d696",
   "metadata": {},
   "outputs": [],
   "source": []
  }
 ],
 "metadata": {
  "kernelspec": {
   "display_name": "Python",
   "language": "python",
   "name": "conda-env-python-py"
  },
  "language_info": {
   "codemirror_mode": {
    "name": "ipython",
    "version": 3
   },
   "file_extension": ".py",
   "mimetype": "text/x-python",
   "name": "python",
   "nbconvert_exporter": "python",
   "pygments_lexer": "ipython3",
   "version": "3.7.12"
  }
 },
 "nbformat": 4,
 "nbformat_minor": 5
}
